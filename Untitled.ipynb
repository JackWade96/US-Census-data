{
 "cells": [
  {
   "cell_type": "code",
   "execution_count": 1,
   "id": "365746c4",
   "metadata": {
    "tags": []
   },
   "outputs": [],
   "source": [
    "import pandas as pd\n",
    "import glob\n",
    "import numpy as np\n",
    "import matplotlib.pyplot as pyplot"
   ]
  },
  {
   "cell_type": "markdown",
   "id": "669e80d3-09c8-437c-b5da-196875cd903a",
   "metadata": {},
   "source": [
    "### Suggestion\n",
    "\n",
    "`glob` is a little old these days; I would recommend switching it out for the [`Path`](https://docs.python.org/3/library/pathlib.html#basic-use) class from the `pathlib` library.\n",
    "\n",
    "It's got a lot of neat features, one of which is a built in `.glob()` method, and you can pass a `Path` instsance in to a lot of places where you would pass a string representing a filepath."
   ]
  },
  {
   "cell_type": "markdown",
   "id": "fdea457c-ed2b-403a-bd75-6832c7cb4e00",
   "metadata": {},
   "source": [
    "### Suggestion\n",
    "\n",
    "Plot styles! Take a look [here](https://matplotlib.org/stable/tutorials/introductory/customizing.html#using-style-sheets) for a few options! I've popped in 'ggplot' as an example, but there's loads more."
   ]
  },
  {
   "cell_type": "code",
   "execution_count": 2,
   "id": "b92af0eb-5b08-49b2-bbb0-eb2480e14476",
   "metadata": {
    "tags": []
   },
   "outputs": [],
   "source": [
    "pyplot.style.use('ggplot')"
   ]
  },
  {
   "cell_type": "code",
   "execution_count": 3,
   "id": "56aa2461",
   "metadata": {
    "tags": []
   },
   "outputs": [
    {
     "data": {
      "text/plain": [
       "['states4.csv',\n",
       " 'states3.csv',\n",
       " 'states2.csv',\n",
       " 'states5.csv',\n",
       " 'states6.csv',\n",
       " 'states1.csv',\n",
       " 'states8.csv',\n",
       " 'states9.csv',\n",
       " 'states0.csv',\n",
       " 'states7.csv']"
      ]
     },
     "execution_count": 3,
     "metadata": {},
     "output_type": "execute_result"
    }
   ],
   "source": [
    "census_files = glob.glob(\"states*.csv\")\n",
    "\n",
    "file_list = []\n",
    "for filename in census_files:\n",
    "    data = pd.read_csv(filename)\n",
    "    file_list.append(data)\n",
    "\n",
    "census_files"
   ]
  },
  {
   "cell_type": "markdown",
   "id": "8ddf42e2-ddcd-483a-a345-41564bac2047",
   "metadata": {},
   "source": [
    "### Suggestion\n",
    "\n",
    "I think you could make the cell above and below this into one operation if you wanted, and I think you'd be justified in doing so! If you're not familiar with comprehensions, check [this](https://realpython.com/courses/understand-list-comprehensions/) out, and consider the following:\n",
    "\n",
    "```python\n",
    "us_census = pd.concat(\n",
    "    [pd.read_csv(p) for p in Path.cwd().glob('state*.csv')]\n",
    ")\n",
    "```\n",
    "\n",
    "*or*\n",
    "\n",
    "```python\n",
    "us_census = pd.concat(\n",
    "    [pd.read_csv(p) for p in glob('state*.csv')]\n",
    ")\n",
    "```\n",
    "\n",
    "if you want to use `glob`, which I think is actually more appropriate in this situation than `Path`!"
   ]
  },
  {
   "cell_type": "code",
   "execution_count": 4,
   "id": "5a9bef88",
   "metadata": {
    "tags": []
   },
   "outputs": [
    {
     "data": {
      "text/html": [
       "<div>\n",
       "<style scoped>\n",
       "    .dataframe tbody tr th:only-of-type {\n",
       "        vertical-align: middle;\n",
       "    }\n",
       "\n",
       "    .dataframe tbody tr th {\n",
       "        vertical-align: top;\n",
       "    }\n",
       "\n",
       "    .dataframe thead th {\n",
       "        text-align: right;\n",
       "    }\n",
       "</style>\n",
       "<table border=\"1\" class=\"dataframe\">\n",
       "  <thead>\n",
       "    <tr style=\"text-align: right;\">\n",
       "      <th></th>\n",
       "      <th>Unnamed: 0</th>\n",
       "      <th>State</th>\n",
       "      <th>TotalPop</th>\n",
       "      <th>Hispanic</th>\n",
       "      <th>White</th>\n",
       "      <th>Black</th>\n",
       "      <th>Native</th>\n",
       "      <th>Asian</th>\n",
       "      <th>Pacific</th>\n",
       "      <th>Income</th>\n",
       "      <th>GenderPop</th>\n",
       "    </tr>\n",
       "  </thead>\n",
       "  <tbody>\n",
       "    <tr>\n",
       "      <th>0</th>\n",
       "      <td>0</td>\n",
       "      <td>Maryland</td>\n",
       "      <td>5930538</td>\n",
       "      <td>8.47%</td>\n",
       "      <td>52.68%</td>\n",
       "      <td>30.68%</td>\n",
       "      <td>0.20%</td>\n",
       "      <td>5.33%</td>\n",
       "      <td>0.04%</td>\n",
       "      <td>$78,765.40</td>\n",
       "      <td>2872643M_F</td>\n",
       "    </tr>\n",
       "    <tr>\n",
       "      <th>1</th>\n",
       "      <td>1</td>\n",
       "      <td>Massachusetts</td>\n",
       "      <td>6705586</td>\n",
       "      <td>11.46%</td>\n",
       "      <td>73.04%</td>\n",
       "      <td>6.83%</td>\n",
       "      <td>0.13%</td>\n",
       "      <td>5.84%</td>\n",
       "      <td>0.02%</td>\n",
       "      <td>$72,838.94</td>\n",
       "      <td>3249650M_3455936F</td>\n",
       "    </tr>\n",
       "    <tr>\n",
       "      <th>2</th>\n",
       "      <td>2</td>\n",
       "      <td>Michigan</td>\n",
       "      <td>9900571</td>\n",
       "      <td>4.63%</td>\n",
       "      <td>72.38%</td>\n",
       "      <td>17.63%</td>\n",
       "      <td>0.48%</td>\n",
       "      <td>2.42%</td>\n",
       "      <td>0.02%</td>\n",
       "      <td>$51,201.83</td>\n",
       "      <td>4861973M_5038598F</td>\n",
       "    </tr>\n",
       "    <tr>\n",
       "      <th>3</th>\n",
       "      <td>3</td>\n",
       "      <td>Minnesota</td>\n",
       "      <td>5419171</td>\n",
       "      <td>5.15%</td>\n",
       "      <td>81.43%</td>\n",
       "      <td>5.66%</td>\n",
       "      <td>1.07%</td>\n",
       "      <td>4.16%</td>\n",
       "      <td>0.03%</td>\n",
       "      <td>$62,820.83</td>\n",
       "      <td>2692166M_2727005F</td>\n",
       "    </tr>\n",
       "    <tr>\n",
       "      <th>4</th>\n",
       "      <td>4</td>\n",
       "      <td>Mississippi</td>\n",
       "      <td>2988081</td>\n",
       "      <td>2.84%</td>\n",
       "      <td>53.29%</td>\n",
       "      <td>41.49%</td>\n",
       "      <td>0.39%</td>\n",
       "      <td>0.88%</td>\n",
       "      <td>0.02%</td>\n",
       "      <td>$38,909.92</td>\n",
       "      <td>1451723M_1536358F</td>\n",
       "    </tr>\n",
       "  </tbody>\n",
       "</table>\n",
       "</div>"
      ],
      "text/plain": [
       "   Unnamed: 0          State  TotalPop Hispanic   White   Black Native  Asian  \\\n",
       "0           0       Maryland   5930538    8.47%  52.68%  30.68%  0.20%  5.33%   \n",
       "1           1  Massachusetts   6705586   11.46%  73.04%   6.83%  0.13%  5.84%   \n",
       "2           2       Michigan   9900571    4.63%  72.38%  17.63%  0.48%  2.42%   \n",
       "3           3      Minnesota   5419171    5.15%  81.43%   5.66%  1.07%  4.16%   \n",
       "4           4    Mississippi   2988081    2.84%  53.29%  41.49%  0.39%  0.88%   \n",
       "\n",
       "  Pacific       Income          GenderPop  \n",
       "0   0.04%  $78,765.40          2872643M_F  \n",
       "1   0.02%  $72,838.94   3249650M_3455936F  \n",
       "2   0.02%  $51,201.83   4861973M_5038598F  \n",
       "3   0.03%  $62,820.83   2692166M_2727005F  \n",
       "4   0.02%  $38,909.92   1451723M_1536358F  "
      ]
     },
     "execution_count": 4,
     "metadata": {},
     "output_type": "execute_result"
    }
   ],
   "source": [
    "us_census = pd.concat(file_list)\n",
    "us_census.head()"
   ]
  },
  {
   "cell_type": "markdown",
   "id": "1256c31a-9079-4dc8-a747-d20d798d0267",
   "metadata": {},
   "source": [
    "### Suggestion\n",
    "\n",
    "We've talked about this already, but just a reminder: consider setting the index to the `State` column with `us_census.set_index('State')`"
   ]
  },
  {
   "cell_type": "code",
   "execution_count": 5,
   "id": "fd949dd4",
   "metadata": {
    "tags": []
   },
   "outputs": [
    {
     "data": {
      "text/plain": [
       "Index(['Unnamed: 0', 'State', 'TotalPop', 'Hispanic', 'White', 'Black',\n",
       "       'Native', 'Asian', 'Pacific', 'Income', 'GenderPop'],\n",
       "      dtype='object')"
      ]
     },
     "execution_count": 5,
     "metadata": {},
     "output_type": "execute_result"
    }
   ],
   "source": [
    "\n",
    "us_census.columns"
   ]
  },
  {
   "cell_type": "code",
   "execution_count": 6,
   "id": "f739b7d5",
   "metadata": {
    "tags": []
   },
   "outputs": [
    {
     "data": {
      "text/plain": [
       "Unnamed: 0     int64\n",
       "State         object\n",
       "TotalPop       int64\n",
       "Hispanic      object\n",
       "White         object\n",
       "Black         object\n",
       "Native        object\n",
       "Asian         object\n",
       "Pacific       object\n",
       "Income        object\n",
       "GenderPop     object\n",
       "dtype: object"
      ]
     },
     "execution_count": 6,
     "metadata": {},
     "output_type": "execute_result"
    }
   ],
   "source": [
    "us_census.dtypes"
   ]
  },
  {
   "cell_type": "code",
   "execution_count": 7,
   "id": "772cfb2f",
   "metadata": {
    "tags": []
   },
   "outputs": [
    {
     "data": {
      "text/plain": [
       "0    78,765.40 \n",
       "1    72,838.94 \n",
       "2    51,201.83 \n",
       "3    62,820.83 \n",
       "4    38,909.92 \n",
       "Name: Income, dtype: object"
      ]
     },
     "execution_count": 7,
     "metadata": {},
     "output_type": "execute_result"
    }
   ],
   "source": [
    "us_census.Income = us_census.Income.replace('[$]', '', regex=True)\n",
    "us_census.Income.head()"
   ]
  },
  {
   "cell_type": "code",
   "execution_count": 8,
   "id": "3ee749b3",
   "metadata": {
    "tags": []
   },
   "outputs": [
    {
     "data": {
      "text/plain": [
       "0           [2872643M, F]\n",
       "1    [3249650M, 3455936F]\n",
       "2    [4861973M, 5038598F]\n",
       "3    [2692166M, 2727005F]\n",
       "4    [1451723M, 1536358F]\n",
       "Name: GenderPop, dtype: object"
      ]
     },
     "execution_count": 8,
     "metadata": {},
     "output_type": "execute_result"
    }
   ],
   "source": [
    "population_split = us_census.GenderPop.str.split(\"_\")\n",
    "population_split.head()\n",
    "     "
   ]
  },
  {
   "cell_type": "markdown",
   "id": "f7dd0e26-c742-4444-aacc-f10d1e455f19",
   "metadata": {},
   "source": [
    "### Suggestion\n",
    "\n",
    "In the below cell (or after), don't forget to switch the dtypes from `str` to `int`!\n",
    "\n",
    "There's a lot of ways you could work with the `GenderPop` column, and one thing I'd consider using `.pop()` in order to remove it from the orginal dataframe in the process, something like\n",
    "\n",
    "```python\n",
    "gender_pop = us_census.pop('GenderPop')\n",
    "```\n",
    "\n",
    "and do your treatment as usual."
   ]
  },
  {
   "cell_type": "code",
   "execution_count": 9,
   "id": "a3278667",
   "metadata": {
    "tags": []
   },
   "outputs": [
    {
     "data": {
      "text/html": [
       "<div>\n",
       "<style scoped>\n",
       "    .dataframe tbody tr th:only-of-type {\n",
       "        vertical-align: middle;\n",
       "    }\n",
       "\n",
       "    .dataframe tbody tr th {\n",
       "        vertical-align: top;\n",
       "    }\n",
       "\n",
       "    .dataframe thead th {\n",
       "        text-align: right;\n",
       "    }\n",
       "</style>\n",
       "<table border=\"1\" class=\"dataframe\">\n",
       "  <thead>\n",
       "    <tr style=\"text-align: right;\">\n",
       "      <th></th>\n",
       "      <th>Unnamed: 0</th>\n",
       "      <th>State</th>\n",
       "      <th>TotalPop</th>\n",
       "      <th>Hispanic</th>\n",
       "      <th>White</th>\n",
       "      <th>Black</th>\n",
       "      <th>Native</th>\n",
       "      <th>Asian</th>\n",
       "      <th>Pacific</th>\n",
       "      <th>Income</th>\n",
       "      <th>GenderPop</th>\n",
       "      <th>male_population</th>\n",
       "      <th>female_population</th>\n",
       "    </tr>\n",
       "  </thead>\n",
       "  <tbody>\n",
       "    <tr>\n",
       "      <th>0</th>\n",
       "      <td>0</td>\n",
       "      <td>Maryland</td>\n",
       "      <td>5930538</td>\n",
       "      <td>8.47%</td>\n",
       "      <td>52.68%</td>\n",
       "      <td>30.68%</td>\n",
       "      <td>0.20%</td>\n",
       "      <td>5.33%</td>\n",
       "      <td>0.04%</td>\n",
       "      <td>78,765.40</td>\n",
       "      <td>2872643M_F</td>\n",
       "      <td>2872643M</td>\n",
       "      <td>F</td>\n",
       "    </tr>\n",
       "    <tr>\n",
       "      <th>1</th>\n",
       "      <td>1</td>\n",
       "      <td>Massachusetts</td>\n",
       "      <td>6705586</td>\n",
       "      <td>11.46%</td>\n",
       "      <td>73.04%</td>\n",
       "      <td>6.83%</td>\n",
       "      <td>0.13%</td>\n",
       "      <td>5.84%</td>\n",
       "      <td>0.02%</td>\n",
       "      <td>72,838.94</td>\n",
       "      <td>3249650M_3455936F</td>\n",
       "      <td>3249650M</td>\n",
       "      <td>3455936F</td>\n",
       "    </tr>\n",
       "    <tr>\n",
       "      <th>2</th>\n",
       "      <td>2</td>\n",
       "      <td>Michigan</td>\n",
       "      <td>9900571</td>\n",
       "      <td>4.63%</td>\n",
       "      <td>72.38%</td>\n",
       "      <td>17.63%</td>\n",
       "      <td>0.48%</td>\n",
       "      <td>2.42%</td>\n",
       "      <td>0.02%</td>\n",
       "      <td>51,201.83</td>\n",
       "      <td>4861973M_5038598F</td>\n",
       "      <td>4861973M</td>\n",
       "      <td>5038598F</td>\n",
       "    </tr>\n",
       "    <tr>\n",
       "      <th>3</th>\n",
       "      <td>3</td>\n",
       "      <td>Minnesota</td>\n",
       "      <td>5419171</td>\n",
       "      <td>5.15%</td>\n",
       "      <td>81.43%</td>\n",
       "      <td>5.66%</td>\n",
       "      <td>1.07%</td>\n",
       "      <td>4.16%</td>\n",
       "      <td>0.03%</td>\n",
       "      <td>62,820.83</td>\n",
       "      <td>2692166M_2727005F</td>\n",
       "      <td>2692166M</td>\n",
       "      <td>2727005F</td>\n",
       "    </tr>\n",
       "    <tr>\n",
       "      <th>4</th>\n",
       "      <td>4</td>\n",
       "      <td>Mississippi</td>\n",
       "      <td>2988081</td>\n",
       "      <td>2.84%</td>\n",
       "      <td>53.29%</td>\n",
       "      <td>41.49%</td>\n",
       "      <td>0.39%</td>\n",
       "      <td>0.88%</td>\n",
       "      <td>0.02%</td>\n",
       "      <td>38,909.92</td>\n",
       "      <td>1451723M_1536358F</td>\n",
       "      <td>1451723M</td>\n",
       "      <td>1536358F</td>\n",
       "    </tr>\n",
       "  </tbody>\n",
       "</table>\n",
       "</div>"
      ],
      "text/plain": [
       "   Unnamed: 0          State  TotalPop Hispanic   White   Black Native  Asian  \\\n",
       "0           0       Maryland   5930538    8.47%  52.68%  30.68%  0.20%  5.33%   \n",
       "1           1  Massachusetts   6705586   11.46%  73.04%   6.83%  0.13%  5.84%   \n",
       "2           2       Michigan   9900571    4.63%  72.38%  17.63%  0.48%  2.42%   \n",
       "3           3      Minnesota   5419171    5.15%  81.43%   5.66%  1.07%  4.16%   \n",
       "4           4    Mississippi   2988081    2.84%  53.29%  41.49%  0.39%  0.88%   \n",
       "\n",
       "  Pacific      Income          GenderPop male_population female_population  \n",
       "0   0.04%  78,765.40          2872643M_F        2872643M                 F  \n",
       "1   0.02%  72,838.94   3249650M_3455936F        3249650M          3455936F  \n",
       "2   0.02%  51,201.83   4861973M_5038598F        4861973M          5038598F  \n",
       "3   0.03%  62,820.83   2692166M_2727005F        2692166M          2727005F  \n",
       "4   0.02%  38,909.92   1451723M_1536358F        1451723M          1536358F  "
      ]
     },
     "execution_count": 9,
     "metadata": {},
     "output_type": "execute_result"
    }
   ],
   "source": [
    "us_census['male_population'] = population_split.str.get(0)\n",
    "us_census['female_population'] = population_split.str.get(1)\n",
    "us_census.head()\n",
    "     "
   ]
  },
  {
   "cell_type": "markdown",
   "id": "7ba11d41-0d9f-46c8-b537-dd0cd87b4ad2",
   "metadata": {},
   "source": [
    "### Suggetsion\n",
    "\n",
    "You can do this in one\n",
    "\n",
    "```python\n",
    "pop_split = pd.DataFrame(\n",
    "    {\n",
    "        'male_pop': us_census.male_population.str[:-1],\n",
    "        'female_pop': us_census.female_population.str[:-1]\n",
    "    }\n",
    ")\n",
    "```\n",
    "\n",
    "but also consider dropping the 'pop' part of these names - it doesn't really add information to include it, as the 'population' component can be picked up from the context of the rest of the work."
   ]
  },
  {
   "cell_type": "code",
   "execution_count": 10,
   "id": "98210ac9",
   "metadata": {
    "tags": []
   },
   "outputs": [
    {
     "data": {
      "text/html": [
       "<div>\n",
       "<style scoped>\n",
       "    .dataframe tbody tr th:only-of-type {\n",
       "        vertical-align: middle;\n",
       "    }\n",
       "\n",
       "    .dataframe tbody tr th {\n",
       "        vertical-align: top;\n",
       "    }\n",
       "\n",
       "    .dataframe thead th {\n",
       "        text-align: right;\n",
       "    }\n",
       "</style>\n",
       "<table border=\"1\" class=\"dataframe\">\n",
       "  <thead>\n",
       "    <tr style=\"text-align: right;\">\n",
       "      <th></th>\n",
       "      <th>male_pop</th>\n",
       "      <th>female_pop</th>\n",
       "    </tr>\n",
       "  </thead>\n",
       "  <tbody>\n",
       "    <tr>\n",
       "      <th>0</th>\n",
       "      <td>2872643</td>\n",
       "      <td></td>\n",
       "    </tr>\n",
       "    <tr>\n",
       "      <th>1</th>\n",
       "      <td>3249650</td>\n",
       "      <td>3455936</td>\n",
       "    </tr>\n",
       "    <tr>\n",
       "      <th>2</th>\n",
       "      <td>4861973</td>\n",
       "      <td>5038598</td>\n",
       "    </tr>\n",
       "    <tr>\n",
       "      <th>3</th>\n",
       "      <td>2692166</td>\n",
       "      <td>2727005</td>\n",
       "    </tr>\n",
       "    <tr>\n",
       "      <th>4</th>\n",
       "      <td>1451723</td>\n",
       "      <td>1536358</td>\n",
       "    </tr>\n",
       "  </tbody>\n",
       "</table>\n",
       "</div>"
      ],
      "text/plain": [
       "  male_pop female_pop\n",
       "0  2872643           \n",
       "1  3249650    3455936\n",
       "2  4861973    5038598\n",
       "3  2692166    2727005\n",
       "4  1451723    1536358"
      ]
     },
     "execution_count": 10,
     "metadata": {},
     "output_type": "execute_result"
    }
   ],
   "source": [
    "\n",
    "pop_split = pd.DataFrame() # Create a temp empty df\n",
    "pop_split['male_pop'] = us_census.male_population.str[0:-1]\n",
    "pop_split['female_pop'] = us_census.female_population.str[0:-1]\n",
    "pop_split.head()\n",
    "     "
   ]
  },
  {
   "cell_type": "code",
   "execution_count": 11,
   "id": "d57e7061",
   "metadata": {
    "tags": []
   },
   "outputs": [
    {
     "data": {
      "text/html": [
       "<div>\n",
       "<style scoped>\n",
       "    .dataframe tbody tr th:only-of-type {\n",
       "        vertical-align: middle;\n",
       "    }\n",
       "\n",
       "    .dataframe tbody tr th {\n",
       "        vertical-align: top;\n",
       "    }\n",
       "\n",
       "    .dataframe thead th {\n",
       "        text-align: right;\n",
       "    }\n",
       "</style>\n",
       "<table border=\"1\" class=\"dataframe\">\n",
       "  <thead>\n",
       "    <tr style=\"text-align: right;\">\n",
       "      <th></th>\n",
       "      <th>Unnamed: 0</th>\n",
       "      <th>State</th>\n",
       "      <th>TotalPop</th>\n",
       "      <th>Hispanic</th>\n",
       "      <th>White</th>\n",
       "      <th>Black</th>\n",
       "      <th>Native</th>\n",
       "      <th>Asian</th>\n",
       "      <th>Pacific</th>\n",
       "      <th>Income</th>\n",
       "      <th>GenderPop</th>\n",
       "      <th>male_population</th>\n",
       "      <th>female_population</th>\n",
       "      <th>male_pop</th>\n",
       "      <th>female_pop</th>\n",
       "    </tr>\n",
       "  </thead>\n",
       "  <tbody>\n",
       "    <tr>\n",
       "      <th>0</th>\n",
       "      <td>0</td>\n",
       "      <td>Maryland</td>\n",
       "      <td>5930538</td>\n",
       "      <td>8.47%</td>\n",
       "      <td>52.68%</td>\n",
       "      <td>30.68%</td>\n",
       "      <td>0.20%</td>\n",
       "      <td>5.33%</td>\n",
       "      <td>0.04%</td>\n",
       "      <td>78,765.40</td>\n",
       "      <td>2872643M_F</td>\n",
       "      <td>2872643M</td>\n",
       "      <td>F</td>\n",
       "      <td>2872643</td>\n",
       "      <td></td>\n",
       "    </tr>\n",
       "    <tr>\n",
       "      <th>1</th>\n",
       "      <td>1</td>\n",
       "      <td>Massachusetts</td>\n",
       "      <td>6705586</td>\n",
       "      <td>11.46%</td>\n",
       "      <td>73.04%</td>\n",
       "      <td>6.83%</td>\n",
       "      <td>0.13%</td>\n",
       "      <td>5.84%</td>\n",
       "      <td>0.02%</td>\n",
       "      <td>72,838.94</td>\n",
       "      <td>3249650M_3455936F</td>\n",
       "      <td>3249650M</td>\n",
       "      <td>3455936F</td>\n",
       "      <td>3249650</td>\n",
       "      <td>3455936</td>\n",
       "    </tr>\n",
       "    <tr>\n",
       "      <th>2</th>\n",
       "      <td>2</td>\n",
       "      <td>Michigan</td>\n",
       "      <td>9900571</td>\n",
       "      <td>4.63%</td>\n",
       "      <td>72.38%</td>\n",
       "      <td>17.63%</td>\n",
       "      <td>0.48%</td>\n",
       "      <td>2.42%</td>\n",
       "      <td>0.02%</td>\n",
       "      <td>51,201.83</td>\n",
       "      <td>4861973M_5038598F</td>\n",
       "      <td>4861973M</td>\n",
       "      <td>5038598F</td>\n",
       "      <td>4861973</td>\n",
       "      <td>5038598</td>\n",
       "    </tr>\n",
       "    <tr>\n",
       "      <th>3</th>\n",
       "      <td>3</td>\n",
       "      <td>Minnesota</td>\n",
       "      <td>5419171</td>\n",
       "      <td>5.15%</td>\n",
       "      <td>81.43%</td>\n",
       "      <td>5.66%</td>\n",
       "      <td>1.07%</td>\n",
       "      <td>4.16%</td>\n",
       "      <td>0.03%</td>\n",
       "      <td>62,820.83</td>\n",
       "      <td>2692166M_2727005F</td>\n",
       "      <td>2692166M</td>\n",
       "      <td>2727005F</td>\n",
       "      <td>2692166</td>\n",
       "      <td>2727005</td>\n",
       "    </tr>\n",
       "    <tr>\n",
       "      <th>4</th>\n",
       "      <td>4</td>\n",
       "      <td>Mississippi</td>\n",
       "      <td>2988081</td>\n",
       "      <td>2.84%</td>\n",
       "      <td>53.29%</td>\n",
       "      <td>41.49%</td>\n",
       "      <td>0.39%</td>\n",
       "      <td>0.88%</td>\n",
       "      <td>0.02%</td>\n",
       "      <td>38,909.92</td>\n",
       "      <td>1451723M_1536358F</td>\n",
       "      <td>1451723M</td>\n",
       "      <td>1536358F</td>\n",
       "      <td>1451723</td>\n",
       "      <td>1536358</td>\n",
       "    </tr>\n",
       "  </tbody>\n",
       "</table>\n",
       "</div>"
      ],
      "text/plain": [
       "   Unnamed: 0          State  TotalPop Hispanic   White   Black Native  Asian  \\\n",
       "0           0       Maryland   5930538    8.47%  52.68%  30.68%  0.20%  5.33%   \n",
       "1           1  Massachusetts   6705586   11.46%  73.04%   6.83%  0.13%  5.84%   \n",
       "2           2       Michigan   9900571    4.63%  72.38%  17.63%  0.48%  2.42%   \n",
       "3           3      Minnesota   5419171    5.15%  81.43%   5.66%  1.07%  4.16%   \n",
       "4           4    Mississippi   2988081    2.84%  53.29%  41.49%  0.39%  0.88%   \n",
       "\n",
       "  Pacific      Income          GenderPop male_population female_population  \\\n",
       "0   0.04%  78,765.40          2872643M_F        2872643M                 F   \n",
       "1   0.02%  72,838.94   3249650M_3455936F        3249650M          3455936F   \n",
       "2   0.02%  51,201.83   4861973M_5038598F        4861973M          5038598F   \n",
       "3   0.03%  62,820.83   2692166M_2727005F        2692166M          2727005F   \n",
       "4   0.02%  38,909.92   1451723M_1536358F        1451723M          1536358F   \n",
       "\n",
       "  male_pop female_pop  \n",
       "0  2872643             \n",
       "1  3249650    3455936  \n",
       "2  4861973    5038598  \n",
       "3  2692166    2727005  \n",
       "4  1451723    1536358  "
      ]
     },
     "execution_count": 11,
     "metadata": {},
     "output_type": "execute_result"
    }
   ],
   "source": [
    "us_census = pd.concat([us_census, pop_split], axis = 1)\n",
    "us_census.head()\n",
    "     "
   ]
  },
  {
   "cell_type": "markdown",
   "id": "fa5eafcc-413d-4b5b-a9c2-61c72aea8c48",
   "metadata": {},
   "source": [
    "### Suggestion\n",
    "\n",
    "Consider using `.drop()` to get rid of the things you don't want and `.rename()` instead of changing the column names like that. Alternatively, as it seems like you've only changed the names of `male_pop` and `female_pop`, consider setting the names to your desired names first :)"
   ]
  },
  {
   "cell_type": "code",
   "execution_count": 12,
   "id": "243d9d84",
   "metadata": {
    "tags": []
   },
   "outputs": [
    {
     "data": {
      "text/html": [
       "<div>\n",
       "<style scoped>\n",
       "    .dataframe tbody tr th:only-of-type {\n",
       "        vertical-align: middle;\n",
       "    }\n",
       "\n",
       "    .dataframe tbody tr th {\n",
       "        vertical-align: top;\n",
       "    }\n",
       "\n",
       "    .dataframe thead th {\n",
       "        text-align: right;\n",
       "    }\n",
       "</style>\n",
       "<table border=\"1\" class=\"dataframe\">\n",
       "  <thead>\n",
       "    <tr style=\"text-align: right;\">\n",
       "      <th></th>\n",
       "      <th>State</th>\n",
       "      <th>TotalPop</th>\n",
       "      <th>Hispanic</th>\n",
       "      <th>White</th>\n",
       "      <th>Black</th>\n",
       "      <th>Native</th>\n",
       "      <th>Asian</th>\n",
       "      <th>Pacific</th>\n",
       "      <th>Income</th>\n",
       "      <th>male_population</th>\n",
       "      <th>female_population</th>\n",
       "    </tr>\n",
       "  </thead>\n",
       "  <tbody>\n",
       "    <tr>\n",
       "      <th>0</th>\n",
       "      <td>Maryland</td>\n",
       "      <td>5930538</td>\n",
       "      <td>8.47%</td>\n",
       "      <td>52.68%</td>\n",
       "      <td>30.68%</td>\n",
       "      <td>0.20%</td>\n",
       "      <td>5.33%</td>\n",
       "      <td>0.04%</td>\n",
       "      <td>78,765.40</td>\n",
       "      <td>2872643</td>\n",
       "      <td></td>\n",
       "    </tr>\n",
       "    <tr>\n",
       "      <th>1</th>\n",
       "      <td>Massachusetts</td>\n",
       "      <td>6705586</td>\n",
       "      <td>11.46%</td>\n",
       "      <td>73.04%</td>\n",
       "      <td>6.83%</td>\n",
       "      <td>0.13%</td>\n",
       "      <td>5.84%</td>\n",
       "      <td>0.02%</td>\n",
       "      <td>72,838.94</td>\n",
       "      <td>3249650</td>\n",
       "      <td>3455936</td>\n",
       "    </tr>\n",
       "    <tr>\n",
       "      <th>2</th>\n",
       "      <td>Michigan</td>\n",
       "      <td>9900571</td>\n",
       "      <td>4.63%</td>\n",
       "      <td>72.38%</td>\n",
       "      <td>17.63%</td>\n",
       "      <td>0.48%</td>\n",
       "      <td>2.42%</td>\n",
       "      <td>0.02%</td>\n",
       "      <td>51,201.83</td>\n",
       "      <td>4861973</td>\n",
       "      <td>5038598</td>\n",
       "    </tr>\n",
       "    <tr>\n",
       "      <th>3</th>\n",
       "      <td>Minnesota</td>\n",
       "      <td>5419171</td>\n",
       "      <td>5.15%</td>\n",
       "      <td>81.43%</td>\n",
       "      <td>5.66%</td>\n",
       "      <td>1.07%</td>\n",
       "      <td>4.16%</td>\n",
       "      <td>0.03%</td>\n",
       "      <td>62,820.83</td>\n",
       "      <td>2692166</td>\n",
       "      <td>2727005</td>\n",
       "    </tr>\n",
       "    <tr>\n",
       "      <th>4</th>\n",
       "      <td>Mississippi</td>\n",
       "      <td>2988081</td>\n",
       "      <td>2.84%</td>\n",
       "      <td>53.29%</td>\n",
       "      <td>41.49%</td>\n",
       "      <td>0.39%</td>\n",
       "      <td>0.88%</td>\n",
       "      <td>0.02%</td>\n",
       "      <td>38,909.92</td>\n",
       "      <td>1451723</td>\n",
       "      <td>1536358</td>\n",
       "    </tr>\n",
       "  </tbody>\n",
       "</table>\n",
       "</div>"
      ],
      "text/plain": [
       "           State  TotalPop Hispanic   White   Black Native  Asian Pacific  \\\n",
       "0       Maryland   5930538    8.47%  52.68%  30.68%  0.20%  5.33%   0.04%   \n",
       "1  Massachusetts   6705586   11.46%  73.04%   6.83%  0.13%  5.84%   0.02%   \n",
       "2       Michigan   9900571    4.63%  72.38%  17.63%  0.48%  2.42%   0.02%   \n",
       "3      Minnesota   5419171    5.15%  81.43%   5.66%  1.07%  4.16%   0.03%   \n",
       "4    Mississippi   2988081    2.84%  53.29%  41.49%  0.39%  0.88%   0.02%   \n",
       "\n",
       "       Income male_population female_population  \n",
       "0  78,765.40          2872643                    \n",
       "1  72,838.94          3249650           3455936  \n",
       "2  51,201.83          4861973           5038598  \n",
       "3  62,820.83          2692166           2727005  \n",
       "4  38,909.92          1451723           1536358  "
      ]
     },
     "execution_count": 12,
     "metadata": {},
     "output_type": "execute_result"
    }
   ],
   "source": [
    "# Gather the columns we want into the df\n",
    "us_census = us_census[['State', 'TotalPop', 'Hispanic', 'White', 'Black',\n",
    "       'Native', 'Asian', 'Pacific', 'Income', 'male_pop', 'female_pop',]]\n",
    "# Rename the male and female population columns\n",
    "us_census.columns = ['State', 'TotalPop', 'Hispanic', 'White', 'Black', 'Native', 'Asian',\n",
    "       'Pacific', 'Income', 'male_population', 'female_population']\n",
    "us_census.head()"
   ]
  },
  {
   "cell_type": "code",
   "execution_count": 13,
   "id": "dcd6d16f",
   "metadata": {
    "tags": []
   },
   "outputs": [
    {
     "data": {
      "text/plain": [
       "State                 object\n",
       "TotalPop               int64\n",
       "Hispanic              object\n",
       "White                 object\n",
       "Black                 object\n",
       "Native                object\n",
       "Asian                 object\n",
       "Pacific               object\n",
       "Income                object\n",
       "male_population        int64\n",
       "female_population    float64\n",
       "dtype: object"
      ]
     },
     "execution_count": 13,
     "metadata": {},
     "output_type": "execute_result"
    }
   ],
   "source": [
    "us_census.male_population = pd.to_numeric(us_census.male_population)\n",
    "us_census.female_population = pd.to_numeric(us_census.female_population)\n",
    "us_census.dtypes"
   ]
  },
  {
   "cell_type": "code",
   "execution_count": 14,
   "id": "26d13422",
   "metadata": {
    "tags": []
   },
   "outputs": [
    {
     "data": {
      "image/png": "[encoded data removed]",
      "text/plain": [
       "<Figure size 640x480 with 1 Axes>"
      ]
     },
     "metadata": {},
     "output_type": "display_data"
    }
   ],
   "source": [
    "pyplot.scatter(us_census.female_population, us_census.Income) \n",
    "\n",
    "pyplot.show()"
   ]
  },
  {
   "cell_type": "code",
   "execution_count": 15,
   "id": "2f041c9d",
   "metadata": {
    "tags": []
   },
   "outputs": [
    {
     "data": {
      "text/plain": [
       "0          NaN\n",
       "1    3455936.0\n",
       "2    5038598.0\n",
       "3    2727005.0\n",
       "4    1536358.0\n",
       "5    3081445.0\n",
       "0    1558931.0\n",
       "1    1453125.0\n",
       "2    2233145.0\n",
       "3    2364097.0\n",
       "4     679019.0\n",
       "5          NaN\n",
       "0    5123362.0\n",
       "1     696428.0\n",
       "2     806083.0\n",
       "Name: female_population, dtype: float64"
      ]
     },
     "execution_count": 15,
     "metadata": {},
     "output_type": "execute_result"
    }
   ],
   "source": [
    "\n",
    "us_census.female_population.head(15)"
   ]
  },
  {
   "cell_type": "code",
   "execution_count": 16,
   "id": "ed1943ff",
   "metadata": {
    "tags": []
   },
   "outputs": [
    {
     "data": {
      "text/plain": [
       "0     True\n",
       "1    False\n",
       "2    False\n",
       "3    False\n",
       "4    False\n",
       "5    False\n",
       "0    False\n",
       "1    False\n",
       "2    False\n",
       "3    False\n",
       "4    False\n",
       "5     True\n",
       "0    False\n",
       "1    False\n",
       "2    False\n",
       "Name: female_population, dtype: bool"
      ]
     },
     "execution_count": 16,
     "metadata": {},
     "output_type": "execute_result"
    }
   ],
   "source": [
    "fem_pop_nan = us_census.female_population.isnull()\n",
    "fem_pop_nan.head(15)"
   ]
  },
  {
   "cell_type": "code",
   "execution_count": 17,
   "id": "f0a65dd8",
   "metadata": {
    "tags": []
   },
   "outputs": [
    {
     "data": {
      "text/plain": [
       "False    57\n",
       "True      3\n",
       "Name: female_population, dtype: int64"
      ]
     },
     "execution_count": 17,
     "metadata": {},
     "output_type": "execute_result"
    }
   ],
   "source": [
    "\n",
    "fem_pop_nan.value_counts()"
   ]
  },
  {
   "cell_type": "code",
   "execution_count": 18,
   "id": "2ed69533",
   "metadata": {
    "tags": []
   },
   "outputs": [
    {
     "data": {
      "text/plain": [
       "TotalPop             10006693.0\n",
       "male_population       4883331.0\n",
       "female_population     5123362.0\n",
       "Name: 0, dtype: float64"
      ]
     },
     "execution_count": 18,
     "metadata": {},
     "output_type": "execute_result"
    }
   ],
   "source": [
    "\n",
    "example_nan = us_census[['TotalPop', 'male_population', 'female_population']]\n",
    "example_nan.iloc[12]"
   ]
  },
  {
   "cell_type": "code",
   "execution_count": 19,
   "id": "4e189374",
   "metadata": {
    "tags": []
   },
   "outputs": [],
   "source": [
    "\n",
    "nan_value = us_census.TotalPop - us_census.male_population"
   ]
  },
  {
   "cell_type": "markdown",
   "id": "edfcfc51-1f28-47e2-ae17-9c5c5f47419c",
   "metadata": {},
   "source": [
    "### Suggestion\n",
    "\n",
    "This one is going to have to be a lot more long winded :\\\n",
    "\n",
    "```python\n",
    "female_nan = us_census.female_population.isnull()\n",
    "us_census.loc[female_nan, 'female_population'] = us_census.loc[female_nan, 'TotalPop'] - us_census.loc[female_nan, 'male_population']\n",
    "```"
   ]
  },
  {
   "cell_type": "code",
   "execution_count": 20,
   "id": "a1b873d4",
   "metadata": {
    "tags": []
   },
   "outputs": [
    {
     "data": {
      "text/plain": [
       "TotalPop             10006693.0\n",
       "male_population       4883331.0\n",
       "female_population     5123362.0\n",
       "Name: 0, dtype: float64"
      ]
     },
     "execution_count": 20,
     "metadata": {},
     "output_type": "execute_result"
    }
   ],
   "source": [
    "us_census.female_population = us_census.female_population.fillna(value=nan_value)\n",
    "example_nan_fixed = us_census[['TotalPop', 'male_population', 'female_population']]\n",
    "example_nan_fixed.iloc[12]"
   ]
  },
  {
   "cell_type": "code",
   "execution_count": 21,
   "id": "be67b95f",
   "metadata": {
    "tags": []
   },
   "outputs": [
    {
     "data": {
      "text/plain": [
       "0    3057895.0\n",
       "1    3455936.0\n",
       "2    5038598.0\n",
       "3    2727005.0\n",
       "4    1536358.0\n",
       "5    3081445.0\n",
       "0    1558931.0\n",
       "1    1453125.0\n",
       "2    2233145.0\n",
       "3    2364097.0\n",
       "4     679019.0\n",
       "5    3057895.0\n",
       "0    5123362.0\n",
       "1     696428.0\n",
       "2     806083.0\n",
       "Name: female_population, dtype: float64"
      ]
     },
     "execution_count": 21,
     "metadata": {},
     "output_type": "execute_result"
    }
   ],
   "source": [
    "us_census.female_population.head(15)"
   ]
  },
  {
   "cell_type": "code",
   "execution_count": 22,
   "id": "e9ee339f",
   "metadata": {
    "tags": []
   },
   "outputs": [
    {
     "data": {
      "text/plain": [
       "False    51\n",
       "True      9\n",
       "dtype: int64"
      ]
     },
     "execution_count": 22,
     "metadata": {},
     "output_type": "execute_result"
    }
   ],
   "source": [
    "\n",
    "duplicates = us_census.duplicated()\n",
    "duplicates.value_counts()"
   ]
  },
  {
   "cell_type": "code",
   "execution_count": 23,
   "id": "19dc1739",
   "metadata": {
    "tags": []
   },
   "outputs": [
    {
     "data": {
      "text/plain": [
       "False    51\n",
       "dtype: int64"
      ]
     },
     "execution_count": 23,
     "metadata": {},
     "output_type": "execute_result"
    }
   ],
   "source": [
    "us_census = us_census.drop_duplicates()\n",
    "duplicates_check = us_census.duplicated()\n",
    "duplicates_check.value_counts()"
   ]
  },
  {
   "cell_type": "code",
   "execution_count": 24,
   "id": "cd1020ab",
   "metadata": {
    "tags": []
   },
   "outputs": [
    {
     "data": {
      "image/png": "[encoded data removed]",
      "text/plain": [
       "<Figure size 640x480 with 1 Axes>"
      ]
     },
     "metadata": {},
     "output_type": "display_data"
    }
   ],
   "source": [
    "pyplot.scatter(us_census.female_population, us_census.Income) \n",
    "pyplot.show()"
   ]
  },
  {
   "cell_type": "code",
   "execution_count": 25,
   "id": "fbafba6a",
   "metadata": {
    "tags": []
   },
   "outputs": [
    {
     "data": {
      "text/plain": [
       "Index(['State', 'TotalPop', 'Hispanic', 'White', 'Black', 'Native', 'Asian',\n",
       "       'Pacific', 'Income', 'male_population', 'female_population'],\n",
       "      dtype='object')"
      ]
     },
     "execution_count": 25,
     "metadata": {},
     "output_type": "execute_result"
    }
   ],
   "source": [
    "\n",
    "us_census.columns"
   ]
  },
  {
   "cell_type": "code",
   "execution_count": 26,
   "id": "e8f81f70",
   "metadata": {
    "tags": []
   },
   "outputs": [
    {
     "data": {
      "text/html": [
       "<div>\n",
       "<style scoped>\n",
       "    .dataframe tbody tr th:only-of-type {\n",
       "        vertical-align: middle;\n",
       "    }\n",
       "\n",
       "    .dataframe tbody tr th {\n",
       "        vertical-align: top;\n",
       "    }\n",
       "\n",
       "    .dataframe thead th {\n",
       "        text-align: right;\n",
       "    }\n",
       "</style>\n",
       "<table border=\"1\" class=\"dataframe\">\n",
       "  <thead>\n",
       "    <tr style=\"text-align: right;\">\n",
       "      <th></th>\n",
       "      <th>State</th>\n",
       "      <th>TotalPop</th>\n",
       "      <th>Hispanic</th>\n",
       "      <th>White</th>\n",
       "      <th>Black</th>\n",
       "      <th>Native</th>\n",
       "      <th>Asian</th>\n",
       "      <th>Pacific</th>\n",
       "      <th>Income</th>\n",
       "      <th>male_population</th>\n",
       "      <th>female_population</th>\n",
       "    </tr>\n",
       "  </thead>\n",
       "  <tbody>\n",
       "    <tr>\n",
       "      <th>0</th>\n",
       "      <td>Maryland</td>\n",
       "      <td>5930538</td>\n",
       "      <td>8.47%</td>\n",
       "      <td>52.68%</td>\n",
       "      <td>30.68%</td>\n",
       "      <td>0.20%</td>\n",
       "      <td>5.33%</td>\n",
       "      <td>0.04%</td>\n",
       "      <td>78,765.40</td>\n",
       "      <td>2872643</td>\n",
       "      <td>3057895.0</td>\n",
       "    </tr>\n",
       "    <tr>\n",
       "      <th>1</th>\n",
       "      <td>Massachusetts</td>\n",
       "      <td>6705586</td>\n",
       "      <td>11.46%</td>\n",
       "      <td>73.04%</td>\n",
       "      <td>6.83%</td>\n",
       "      <td>0.13%</td>\n",
       "      <td>5.84%</td>\n",
       "      <td>0.02%</td>\n",
       "      <td>72,838.94</td>\n",
       "      <td>3249650</td>\n",
       "      <td>3455936.0</td>\n",
       "    </tr>\n",
       "    <tr>\n",
       "      <th>2</th>\n",
       "      <td>Michigan</td>\n",
       "      <td>9900571</td>\n",
       "      <td>4.63%</td>\n",
       "      <td>72.38%</td>\n",
       "      <td>17.63%</td>\n",
       "      <td>0.48%</td>\n",
       "      <td>2.42%</td>\n",
       "      <td>0.02%</td>\n",
       "      <td>51,201.83</td>\n",
       "      <td>4861973</td>\n",
       "      <td>5038598.0</td>\n",
       "    </tr>\n",
       "    <tr>\n",
       "      <th>3</th>\n",
       "      <td>Minnesota</td>\n",
       "      <td>5419171</td>\n",
       "      <td>5.15%</td>\n",
       "      <td>81.43%</td>\n",
       "      <td>5.66%</td>\n",
       "      <td>1.07%</td>\n",
       "      <td>4.16%</td>\n",
       "      <td>0.03%</td>\n",
       "      <td>62,820.83</td>\n",
       "      <td>2692166</td>\n",
       "      <td>2727005.0</td>\n",
       "    </tr>\n",
       "    <tr>\n",
       "      <th>4</th>\n",
       "      <td>Mississippi</td>\n",
       "      <td>2988081</td>\n",
       "      <td>2.84%</td>\n",
       "      <td>53.29%</td>\n",
       "      <td>41.49%</td>\n",
       "      <td>0.39%</td>\n",
       "      <td>0.88%</td>\n",
       "      <td>0.02%</td>\n",
       "      <td>38,909.92</td>\n",
       "      <td>1451723</td>\n",
       "      <td>1536358.0</td>\n",
       "    </tr>\n",
       "  </tbody>\n",
       "</table>\n",
       "</div>"
      ],
      "text/plain": [
       "           State  TotalPop Hispanic   White   Black Native  Asian Pacific  \\\n",
       "0       Maryland   5930538    8.47%  52.68%  30.68%  0.20%  5.33%   0.04%   \n",
       "1  Massachusetts   6705586   11.46%  73.04%   6.83%  0.13%  5.84%   0.02%   \n",
       "2       Michigan   9900571    4.63%  72.38%  17.63%  0.48%  2.42%   0.02%   \n",
       "3      Minnesota   5419171    5.15%  81.43%   5.66%  1.07%  4.16%   0.03%   \n",
       "4    Mississippi   2988081    2.84%  53.29%  41.49%  0.39%  0.88%   0.02%   \n",
       "\n",
       "       Income  male_population  female_population  \n",
       "0  78,765.40           2872643          3057895.0  \n",
       "1  72,838.94           3249650          3455936.0  \n",
       "2  51,201.83           4861973          5038598.0  \n",
       "3  62,820.83           2692166          2727005.0  \n",
       "4  38,909.92           1451723          1536358.0  "
      ]
     },
     "execution_count": 26,
     "metadata": {},
     "output_type": "execute_result"
    }
   ],
   "source": [
    "us_census.head()"
   ]
  },
  {
   "cell_type": "code",
   "execution_count": 27,
   "id": "362aa878",
   "metadata": {
    "tags": []
   },
   "outputs": [
    {
     "data": {
      "text/html": [
       "<div>\n",
       "<style scoped>\n",
       "    .dataframe tbody tr th:only-of-type {\n",
       "        vertical-align: middle;\n",
       "    }\n",
       "\n",
       "    .dataframe tbody tr th {\n",
       "        vertical-align: top;\n",
       "    }\n",
       "\n",
       "    .dataframe thead th {\n",
       "        text-align: right;\n",
       "    }\n",
       "</style>\n",
       "<table border=\"1\" class=\"dataframe\">\n",
       "  <thead>\n",
       "    <tr style=\"text-align: right;\">\n",
       "      <th></th>\n",
       "      <th>State</th>\n",
       "      <th>TotalPop</th>\n",
       "      <th>Hispanic</th>\n",
       "      <th>White</th>\n",
       "      <th>Black</th>\n",
       "      <th>Native</th>\n",
       "      <th>Asian</th>\n",
       "      <th>Pacific</th>\n",
       "      <th>Income</th>\n",
       "      <th>male_population</th>\n",
       "      <th>female_population</th>\n",
       "    </tr>\n",
       "  </thead>\n",
       "  <tbody>\n",
       "    <tr>\n",
       "      <th>0</th>\n",
       "      <td>Maryland</td>\n",
       "      <td>5930538</td>\n",
       "      <td>8.47</td>\n",
       "      <td>52.68</td>\n",
       "      <td>30.68</td>\n",
       "      <td>0.20</td>\n",
       "      <td>5.33</td>\n",
       "      <td>0.04</td>\n",
       "      <td>78,765.40</td>\n",
       "      <td>2872643</td>\n",
       "      <td>3057895.0</td>\n",
       "    </tr>\n",
       "    <tr>\n",
       "      <th>1</th>\n",
       "      <td>Massachusetts</td>\n",
       "      <td>6705586</td>\n",
       "      <td>11.46</td>\n",
       "      <td>73.04</td>\n",
       "      <td>6.83</td>\n",
       "      <td>0.13</td>\n",
       "      <td>5.84</td>\n",
       "      <td>0.02</td>\n",
       "      <td>72,838.94</td>\n",
       "      <td>3249650</td>\n",
       "      <td>3455936.0</td>\n",
       "    </tr>\n",
       "    <tr>\n",
       "      <th>2</th>\n",
       "      <td>Michigan</td>\n",
       "      <td>9900571</td>\n",
       "      <td>4.63</td>\n",
       "      <td>72.38</td>\n",
       "      <td>17.63</td>\n",
       "      <td>0.48</td>\n",
       "      <td>2.42</td>\n",
       "      <td>0.02</td>\n",
       "      <td>51,201.83</td>\n",
       "      <td>4861973</td>\n",
       "      <td>5038598.0</td>\n",
       "    </tr>\n",
       "    <tr>\n",
       "      <th>3</th>\n",
       "      <td>Minnesota</td>\n",
       "      <td>5419171</td>\n",
       "      <td>5.15</td>\n",
       "      <td>81.43</td>\n",
       "      <td>5.66</td>\n",
       "      <td>1.07</td>\n",
       "      <td>4.16</td>\n",
       "      <td>0.03</td>\n",
       "      <td>62,820.83</td>\n",
       "      <td>2692166</td>\n",
       "      <td>2727005.0</td>\n",
       "    </tr>\n",
       "    <tr>\n",
       "      <th>4</th>\n",
       "      <td>Mississippi</td>\n",
       "      <td>2988081</td>\n",
       "      <td>2.84</td>\n",
       "      <td>53.29</td>\n",
       "      <td>41.49</td>\n",
       "      <td>0.39</td>\n",
       "      <td>0.88</td>\n",
       "      <td>0.02</td>\n",
       "      <td>38,909.92</td>\n",
       "      <td>1451723</td>\n",
       "      <td>1536358.0</td>\n",
       "    </tr>\n",
       "  </tbody>\n",
       "</table>\n",
       "</div>"
      ],
      "text/plain": [
       "           State  TotalPop Hispanic  White  Black Native Asian Pacific  \\\n",
       "0       Maryland   5930538     8.47  52.68  30.68   0.20  5.33    0.04   \n",
       "1  Massachusetts   6705586    11.46  73.04   6.83   0.13  5.84    0.02   \n",
       "2       Michigan   9900571     4.63  72.38  17.63   0.48  2.42    0.02   \n",
       "3      Minnesota   5419171     5.15  81.43   5.66   1.07  4.16    0.03   \n",
       "4    Mississippi   2988081     2.84  53.29  41.49   0.39  0.88    0.02   \n",
       "\n",
       "       Income  male_population  female_population  \n",
       "0  78,765.40           2872643          3057895.0  \n",
       "1  72,838.94           3249650          3455936.0  \n",
       "2  51,201.83           4861973          5038598.0  \n",
       "3  62,820.83           2692166          2727005.0  \n",
       "4  38,909.92           1451723          1536358.0  "
      ]
     },
     "execution_count": 27,
     "metadata": {},
     "output_type": "execute_result"
    }
   ],
   "source": [
    "us_census.Hispanic = us_census.Hispanic.replace('[\\%]', '', regex=True)\n",
    "us_census.White = us_census.White.replace('[\\%]', '', regex=True)\n",
    "us_census.Black = us_census.Black.replace('[\\%]', '', regex=True)\n",
    "us_census.Native = us_census.Native.replace('[\\%]', '', regex=True)\n",
    "us_census.Asian = us_census.Asian.replace('[\\%]', '', regex=True)\n",
    "us_census.Pacific = us_census.Pacific.replace('[\\%]', '', regex=True)\n",
    "us_census.head()"
   ]
  },
  {
   "cell_type": "markdown",
   "id": "a6e12035-c4c9-409c-9e4a-06dd9de8786d",
   "metadata": {},
   "source": [
    "### Suggestion\n",
    "\n",
    "Hot *DAMN*! Regex, man! That's hot stuff. I think you could stand to drop the `[` and `]` too and it should work. I wonder if you could do it in one, rather than as all separate lines. I'll leave that for you to investigate."
   ]
  },
  {
   "cell_type": "code",
   "execution_count": 28,
   "id": "99c0a9d4",
   "metadata": {
    "tags": []
   },
   "outputs": [
    {
     "data": {
      "text/plain": [
       "State                 object\n",
       "TotalPop               int64\n",
       "Hispanic             float64\n",
       "White                float64\n",
       "Black                float64\n",
       "Native               float64\n",
       "Asian                float64\n",
       "Pacific              float64\n",
       "Income                object\n",
       "male_population        int64\n",
       "female_population    float64\n",
       "dtype: object"
      ]
     },
     "execution_count": 28,
     "metadata": {},
     "output_type": "execute_result"
    }
   ],
   "source": [
    "us_census.Hispanic = pd.to_numeric(us_census.Hispanic)\n",
    "us_census.White = pd.to_numeric(us_census.White)\n",
    "us_census.Black = pd.to_numeric(us_census.Black)\n",
    "us_census.Native = pd.to_numeric(us_census.Native)\n",
    "us_census.Asian = pd.to_numeric(us_census.Asian)\n",
    "us_census.Pacific = pd.to_numeric(us_census.Pacific)\n",
    "us_census.dtypes\n",
    "     "
   ]
  },
  {
   "cell_type": "markdown",
   "id": "12e07f46-af05-4291-85cf-63493bdcbb26",
   "metadata": {},
   "source": [
    "### Suggestion\n",
    "\n",
    "You can do this as:\n",
    "\n",
    "```python\n",
    "us_census.astype(\n",
    "    {\n",
    "        'Hispanic': float,\n",
    "        ...\n",
    "    }\n",
    ")\n",
    "```\n",
    "\n",
    "where you fill in the `...` with all the columns you want to change."
   ]
  },
  {
   "cell_type": "code",
   "execution_count": 29,
   "id": "f0ad06d0",
   "metadata": {
    "tags": []
   },
   "outputs": [],
   "source": [
    "Hnan = us_census.Hispanic.isnull()\n",
    "Wnan = us_census.White.isnull()\n",
    "Bnan = us_census.Black.isnull()\n",
    "Nnan = us_census.Native.isnull()\n",
    "Anan = us_census.Asian.isnull()\n",
    "Pnan = us_census.Pacific.isnull()\n",
    "    "
   ]
  },
  {
   "cell_type": "code",
   "execution_count": 30,
   "id": "1b118b6c",
   "metadata": {
    "tags": []
   },
   "outputs": [
    {
     "data": {
      "text/plain": [
       "False    51\n",
       "Name: Hispanic, dtype: int64"
      ]
     },
     "execution_count": 30,
     "metadata": {},
     "output_type": "execute_result"
    }
   ],
   "source": [
    "Hnan.value_counts()"
   ]
  },
  {
   "cell_type": "code",
   "execution_count": 31,
   "id": "6ed20e1d",
   "metadata": {
    "tags": []
   },
   "outputs": [
    {
     "data": {
      "text/plain": [
       "False    51\n",
       "Name: White, dtype: int64"
      ]
     },
     "execution_count": 31,
     "metadata": {},
     "output_type": "execute_result"
    }
   ],
   "source": [
    "Wnan.value_counts()"
   ]
  },
  {
   "cell_type": "code",
   "execution_count": 32,
   "id": "e0e4beb1",
   "metadata": {
    "tags": []
   },
   "outputs": [
    {
     "data": {
      "text/plain": [
       "False    51\n",
       "Name: Black, dtype: int64"
      ]
     },
     "execution_count": 32,
     "metadata": {},
     "output_type": "execute_result"
    }
   ],
   "source": [
    "\n",
    "Bnan.value_counts()"
   ]
  },
  {
   "cell_type": "code",
   "execution_count": 33,
   "id": "af3af88e",
   "metadata": {
    "tags": []
   },
   "outputs": [
    {
     "data": {
      "text/plain": [
       "False    51\n",
       "Name: Native, dtype: int64"
      ]
     },
     "execution_count": 33,
     "metadata": {},
     "output_type": "execute_result"
    }
   ],
   "source": [
    "Nnan.value_counts()\n",
    "     "
   ]
  },
  {
   "cell_type": "code",
   "execution_count": 34,
   "id": "f4441c09",
   "metadata": {
    "tags": []
   },
   "outputs": [
    {
     "data": {
      "text/plain": [
       "False    51\n",
       "Name: Asian, dtype: int64"
      ]
     },
     "execution_count": 34,
     "metadata": {},
     "output_type": "execute_result"
    }
   ],
   "source": [
    "Anan.value_counts()"
   ]
  },
  {
   "cell_type": "code",
   "execution_count": 35,
   "id": "0ea81606",
   "metadata": {
    "tags": []
   },
   "outputs": [
    {
     "data": {
      "text/plain": [
       "False    47\n",
       "True      4\n",
       "Name: Pacific, dtype: int64"
      ]
     },
     "execution_count": 35,
     "metadata": {},
     "output_type": "execute_result"
    }
   ],
   "source": [
    "Pnan.value_counts()"
   ]
  },
  {
   "cell_type": "markdown",
   "id": "dfbb8d93",
   "metadata": {},
   "source": [
    "# HI JACK\n",
    "\n",
    "Considering turning the below cell into a function, something like:\n",
    "\n",
    "```python\n",
    "def make_bar_chart(column: pd.Series) -> None:\n",
    "    pyplot.hist(column)\n",
    "    ...\n",
    "    return None\n",
    "```\n",
    "\n",
    "and then you can call it in all the cells instead of repeating the same chunk of code! Look [here](https://realpython.com/defining-your-own-python-function/) if you need a reminder. If the whole `column: pd.Series` and `-> None:` thing looks weird, try [here](https://realpython.com/lessons/type-hinting/).\n",
    "\n",
    "**GOOD LUCK, KING COBRA** &#x1F409;"
   ]
  },
  {
   "cell_type": "code",
   "execution_count": 36,
   "id": "5c63e97e",
   "metadata": {
    "tags": []
   },
   "outputs": [
    {
     "data": {
      "image/png": "[encoded data removed]",
      "text/plain": [
       "<Figure size 640x480 with 1 Axes>"
      ]
     },
     "metadata": {},
     "output_type": "display_data"
    }
   ],
   "source": [
    "pyplot.hist(us_census.Hispanic)\n",
    "pyplot.xlabel('Percentage')\n",
    "pyplot.ylabel('Frequency of occurance')\n",
    "pyplot.show()\n",
    "     "
   ]
  },
  {
   "cell_type": "code",
   "execution_count": 37,
   "id": "f2256603",
   "metadata": {
    "tags": []
   },
   "outputs": [
    {
     "data": {
      "image/png": "[encoded data removed]",
      "text/plain": [
       "<Figure size 640x480 with 1 Axes>"
      ]
     },
     "metadata": {},
     "output_type": "display_data"
    }
   ],
   "source": [
    "pyplot.hist(us_census.White)\n",
    "pyplot.xlabel('Percentage')\n",
    "pyplot.ylabel('Frequency of occurance')\n",
    "pyplot.show()"
   ]
  },
  {
   "cell_type": "code",
   "execution_count": 38,
   "id": "7bfe665f",
   "metadata": {
    "tags": []
   },
   "outputs": [
    {
     "data": {
      "image/png": "[encoded data removed]",
      "text/plain": [
       "<Figure size 640x480 with 1 Axes>"
      ]
     },
     "metadata": {},
     "output_type": "display_data"
    }
   ],
   "source": [
    "\n",
    "pyplot.hist(us_census.Black)\n",
    "pyplot.xlabel('Percentage')\n",
    "pyplot.ylabel('Frequency of occurance')\n",
    "pyplot.show()\n",
    "     "
   ]
  },
  {
   "cell_type": "code",
   "execution_count": 39,
   "id": "c7378992",
   "metadata": {
    "tags": []
   },
   "outputs": [
    {
     "data": {
      "image/png": "[encoded data removed]",
      "text/plain": [
       "<Figure size 640x480 with 1 Axes>"
      ]
     },
     "metadata": {},
     "output_type": "display_data"
    }
   ],
   "source": [
    "pyplot.hist(us_census.Native)\n",
    "pyplot.xlabel('Percentage')\n",
    "pyplot.ylabel('Frequency of occurance')\n",
    "pyplot.show()"
   ]
  },
  {
   "cell_type": "code",
   "execution_count": 40,
   "id": "0f7327ce",
   "metadata": {
    "tags": []
   },
   "outputs": [
    {
     "data": {
      "image/png": "[encoded data removed]",
      "text/plain": [
       "<Figure size 640x480 with 1 Axes>"
      ]
     },
     "metadata": {},
     "output_type": "display_data"
    }
   ],
   "source": [
    "pyplot.hist(us_census.Asian)\n",
    "pyplot.xlabel('Percentage')\n",
    "pyplot.ylabel('Frequency of occurance')\n",
    "pyplot.show()"
   ]
  },
  {
   "cell_type": "code",
   "execution_count": 41,
   "id": "f520a5fd",
   "metadata": {
    "tags": []
   },
   "outputs": [
    {
     "data": {
      "image/png": "[encoded data removed]",
      "text/plain": [
       "<Figure size 640x480 with 1 Axes>"
      ]
     },
     "metadata": {},
     "output_type": "display_data"
    }
   ],
   "source": [
    "\n",
    "pyplot.hist(us_census.Pacific)\n",
    "pyplot.xlabel('Percentage')\n",
    "pyplot.ylabel('Frequency of occurance')\n",
    "pyplot.show()"
   ]
  },
  {
   "cell_type": "markdown",
   "id": "4e39658e-bafb-4c29-9335-e3d254c4ca39",
   "metadata": {},
   "source": [
    "### Suggestion\n",
    "\n",
    "You could maybe do the above with a single call - I think `pandas.DataFrame` object built in plotting things have a way of looping over axes and generating a new set of axes each time."
   ]
  }
 ],
 "metadata": {
  "kernelspec": {
   "display_name": "Python 3 (ipykernel)",
   "language": "python",
   "name": "python3"
  },
  "language_info": {
   "codemirror_mode": {
    "name": "ipython",
    "version": 3
   },
   "file_extension": ".py",
   "mimetype": "text/x-python",
   "name": "python",
   "nbconvert_exporter": "python",
   "pygments_lexer": "ipython3",
   "version": "3.11.2"
  }
 },
 "nbformat": 4,
 "nbformat_minor": 5
}
